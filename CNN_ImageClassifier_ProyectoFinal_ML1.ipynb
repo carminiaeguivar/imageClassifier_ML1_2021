{
  "nbformat": 4,
  "nbformat_minor": 0,
  "metadata": {
    "colab": {
      "name": "CNN_ImageClassifier_ProyectoFinal_ML_20211126_v6.ipynb",
      "provenance": [],
      "collapsed_sections": []
    },
    "kernelspec": {
      "name": "python3",
      "display_name": "Python 3"
    },
    "language_info": {
      "name": "python"
    }
  },
  "cells": [
    {
      "cell_type": "markdown",
      "metadata": {
        "id": "QivNsgNEHjDN"
      },
      "source": [
        "---\n",
        "\n",
        "\n",
        "#PROYECTO FINAL: CLASIFICACION DE IMAGENES \n",
        "\n",
        "\n",
        "**EGUIVAR VILLCA SHIRLEY CARMINIA**\n",
        "\n",
        "\n",
        "---\n",
        "\n"
      ]
    },
    {
      "cell_type": "code",
      "metadata": {
        "id": "ex7I7uLk3_uK"
      },
      "source": [
        "# import dependencies\n",
        "from keras.models import Sequential\n",
        "from keras.layers import Dense\n",
        "from keras.layers import Dropout\n",
        "from keras.layers import Flatten\n",
        "from keras.constraints import maxnorm\n",
        "#from keras.optimizers import SGD\n",
        "from tensorflow.keras.optimizers import SGD\n",
        "from tensorflow.keras.optimizers import Adam\n",
        "from keras.layers.convolutional import Conv2D\n",
        "from keras.layers.convolutional import MaxPooling2D\n",
        "from keras.utils import np_utils\n",
        "# import cifar10dataset\n",
        "from keras.datasets import cifar10\n",
        "import matplotlib.pyplot as plt\n",
        "import numpy as np\n",
        "import time\n"
      ],
      "execution_count": 1,
      "outputs": []
    },
    {
      "cell_type": "markdown",
      "metadata": {
        "id": "jXCUdS7w6OpT"
      },
      "source": [
        "##Configuracion del Modelo(Definicion de variables)\n",
        "\n",
        "---\n",
        "**The batch size** is the amount of samples that will be fed forward in your model at once, after which the loss value is computed. You could either feed the model the entire training batch, one sample every time or a minibatch – and you can set this value by specifying batch_size.\n",
        "\n",
        "The **image width**, **image height** and **number of channels**. Width and height are 32, respectively, and number of channels is 3, as the dataset contains RGB images.\n",
        "\n",
        "The **loss function** used to compare predictions with ground truth during training. We use sparse categorical crossentropy loss. We skip the “why” for now – I’ll show you later why we use sparse instead of regular categorical crossentropy loss.\n",
        "\n",
        "The **number of classes** and **number of epochs** (or iterations).\n",
        "\n",
        "The **optimizer**, or the method by which we update the weights of our neural network. .\n",
        "\n",
        "**Verbosity mode** is set to “1”, which means “True”, which means that all the output is displayed on screen. This is good for understanding what happens during training, but it’s best to turn it off when you actually train models, as it slows down the training process\n",
        "\n"
      ]
    },
    {
      "cell_type": "code",
      "metadata": {
        "id": "LMlveEJL6YsI"
      },
      "source": [
        "# Model configuration\n",
        "batch_size = 50\n",
        "img_width, img_height, img_num_channels = 32, 32, 3\n",
        "loss_function = 'categorical_crossentropy'\n",
        "no_classes = 10   # the dataset have 10 classes airplane, dog, cat,truck,horse,car,frog,ship,bird,deer\n",
        "no_epochs = 60   # num to iterate, it can b change to 100, with 100 epochs we shoud have  the best result\n",
        "optimizer = SGD()#Adam()#SGD()#\n",
        "verbosity = 1"
      ],
      "execution_count": 7,
      "outputs": []
    },
    {
      "cell_type": "markdown",
      "metadata": {
        "id": "ZvS8tO_14tc-"
      },
      "source": [
        "##Loading & preparing CIFAR-10 data\n",
        "\n",
        "---\n",
        "\n"
      ]
    },
    {
      "cell_type": "code",
      "metadata": {
        "id": "2R0YccDgXgBM"
      },
      "source": [
        "\n",
        "# Load CIFAR-10 data \n",
        "(train_X,train_Y),(test_X,test_Y)=cifar10.load_data()\n"
      ],
      "execution_count": 9,
      "outputs": []
    },
    {
      "cell_type": "markdown",
      "metadata": {
        "id": "UsUFmw525ZbW"
      },
      "source": [
        "\n",
        "##Determine shape of the data\n",
        "\n",
        "---\n",
        "\n",
        "\n",
        "\n",
        "El siguiente paso es determinar la forma de una muestra. Keras requiere esto para comprender qué datos puede esperar en la INPUT LAYER de su red neuronal. \n",
        "\n"
      ]
    },
    {
      "cell_type": "code",
      "metadata": {
        "id": "ndAg_3XJ5mtv",
        "colab": {
          "base_uri": "https://localhost:8080/"
        },
        "outputId": "d499c896-2095-4680-e167-b723011e7d7e"
      },
      "source": [
        "# Determine shape of the data, in this case 32,32,3\n",
        "#it means 32 pixeles x 32 pixeles x 3 canales(RGB)  , \n",
        "# There are 3 channels becouse the images have colours\n",
        "input_shape = (img_width, img_height, img_num_channels) \n",
        " \n",
        "print(\"Shape of x_train: {}\".format(train_X.shape))\n",
        "print(\"Shape of y_train: {}\".format(train_Y.shape))\n",
        "print()\n",
        "print(\"Shape of x_test: {}\".format(test_X.shape))\n",
        "print(\"Shape of y_test: {}\".format(test_Y.shape))"
      ],
      "execution_count": 10,
      "outputs": [
        {
          "output_type": "stream",
          "name": "stdout",
          "text": [
            "Shape of x_train: (50000, 32, 32, 3)\n",
            "Shape of y_train: (50000, 1)\n",
            "\n",
            "Shape of x_test: (10000, 32, 32, 3)\n",
            "Shape of y_test: (10000, 1)\n"
          ]
        }
      ]
    },
    {
      "cell_type": "code",
      "metadata": {
        "id": "-tZADri3X_BC",
        "colab": {
          "base_uri": "https://localhost:8080/"
        },
        "outputId": "6af2cafd-2d14-4f94-a4bc-e194b00925c5"
      },
      "source": [
        "!pip3 install SGD\n",
        "!pip install -U tensorflow-addons"
      ],
      "execution_count": 11,
      "outputs": [
        {
          "output_type": "stream",
          "name": "stdout",
          "text": [
            "\u001b[31mERROR: Could not find a version that satisfies the requirement SGD (from versions: none)\u001b[0m\n",
            "\u001b[31mERROR: No matching distribution found for SGD\u001b[0m\n",
            "Collecting tensorflow-addons\n",
            "  Downloading tensorflow_addons-0.15.0-cp37-cp37m-manylinux_2_12_x86_64.manylinux2010_x86_64.whl (1.1 MB)\n",
            "\u001b[K     |████████████████████████████████| 1.1 MB 32.2 MB/s \n",
            "\u001b[?25hRequirement already satisfied: typeguard>=2.7 in /usr/local/lib/python3.7/dist-packages (from tensorflow-addons) (2.7.1)\n",
            "Installing collected packages: tensorflow-addons\n",
            "Successfully installed tensorflow-addons-0.15.0\n"
          ]
        }
      ]
    },
    {
      "cell_type": "code",
      "metadata": {
        "colab": {
          "base_uri": "https://localhost:8080/",
          "height": 158
        },
        "id": "zEoh2G_uXgIU",
        "outputId": "61126a80-958c-416c-b590-6c2308d79f8b"
      },
      "source": [
        "labelNames = [\"airplane\", \"automobile\", \"bird\", \"cat\", \"deer\", \"dog\", \"frog\", \"horse\", \"ship\", \"truck\"]\n",
        "sample = 2107 \n",
        "each = train_X[sample]\n",
        "\n",
        "plt.figure(figsize=(2,2))\n",
        "plt.axis('off')\n",
        "plt.imshow(each, interpolation='nearest')\n",
        "print(\"Image (#{}): Which is label number '{}', or label '{}''\".format(sample,train_Y[sample], labelNames[train_Y[sample][0]]))"
      ],
      "execution_count": 15,
      "outputs": [
        {
          "output_type": "stream",
          "name": "stdout",
          "text": [
            "Image (#2107): Which is label number '[0]', or label 'airplane''\n"
          ]
        },
        {
          "output_type": "display_data",
          "data": {
            "image/png": "[encoded data removed]",
            "text/plain": [
              "<Figure size 144x144 with 1 Axes>"
            ]
          },
          "metadata": {
            "needs_background": "light"
          }
        }
      ]
    },
    {
      "cell_type": "code",
      "metadata": {
        "colab": {
          "base_uri": "https://localhost:8080/",
          "height": 441
        },
        "id": "h7TNam6MZVp7",
        "outputId": "b3baeefe-8d8d-4486-9670-809a8026d2ff"
      },
      "source": [
        "ROW = 4\n",
        "COLUMN = 4\n",
        "plt.figure(figsize=(6, 6)) \n",
        "for i in range(ROW * COLUMN):\n",
        "    image = train_X[i] \n",
        "    plt.subplot(ROW, COLUMN, i+1)       \n",
        "    plt.imshow((image).astype(np.uint8), interpolation='nearest')  \n",
        "    #plt.title('label = {}'.format(labelNames[train_Y[i][0]]))\n",
        "    plt.title('{}'.format(labelNames[train_Y[i][0]]))\n",
        "    #plt.imshow((out * 255).astype(np.uint8))\n",
        "    plt.axis('off')\n",
        "    plt.tight_layout()   \n",
        "    \n",
        "plt.show()"
      ],
      "execution_count": 16,
      "outputs": [
        {
          "output_type": "display_data",
          "data": {
            "image/png": "[encoded data removed]",
            "text/plain": [
              "<Figure size 432x432 with 16 Axes>"
            ]
          },
          "metadata": {
            "needs_background": "light"
          }
        }
      ]
    },
    {
      "cell_type": "markdown",
      "metadata": {
        "id": "ta2d72MX9HfO"
      },
      "source": [
        "\n",
        "##Data Procesing\n",
        "\n",
        "---\n",
        "\n",
        "Convertimos la data en el formato float32 , esto deberia acelerar el training. Luego normalizamos la data , n el rango [−1,1] "
      ]
    },
    {
      "cell_type": "code",
      "metadata": {
        "colab": {
          "base_uri": "https://localhost:8080/"
        },
        "id": "ovTx54deM_-v",
        "outputId": "a76a62f8-fc2e-422b-a754-9f6f62539f7e"
      },
      "source": [
        "# Checking the minimum and maximum values of x_train\n",
        "print(train_X.min())\n",
        "print(train_X.max())"
      ],
      "execution_count": 17,
      "outputs": [
        {
          "output_type": "stream",
          "name": "stdout",
          "text": [
            "0\n",
            "255\n"
          ]
        }
      ]
    },
    {
      "cell_type": "code",
      "metadata": {
        "id": "J3MEq8waXtGX"
      },
      "source": [
        "# Parse numbers as floats\n",
        "train_x=train_X.astype('float32')\n",
        "test_X=test_X.astype('float32')\n",
        "# Normalize data \n",
        "## the max value is 255, that is the reason why we divide with that num\n",
        "train_X=train_X/255.0\n",
        "test_X=test_X/255.0"
      ],
      "execution_count": 18,
      "outputs": []
    },
    {
      "cell_type": "code",
      "metadata": {
        "id": "TWP7DBrqZn_y"
      },
      "source": [
        "train_Y=np_utils.to_categorical(train_Y)\n",
        "test_Y=np_utils.to_categorical(test_Y)\n",
        " \n",
        "num_classes=test_Y.shape[1]"
      ],
      "execution_count": 19,
      "outputs": []
    },
    {
      "cell_type": "markdown",
      "metadata": {
        "id": "xiVJ8tnBYjK8"
      },
      "source": [
        "## Build the architecture of the Model  (CNN) \n",
        "\n",
        "---\n",
        "\n",
        "\n",
        "my CNN architechture is  **In -> [[Conv2D  ->relu] -> MaxPool2D]* 3 -> Flatten -> Dense -> Out**\n",
        "\n",
        "Primero, crearemos una instancia de la API secuencial y la asignaremos al modelo; esto es como un  tablero de Lego en el que puede agregar ladrillos, también conocidos como capas.\n",
        "A continuación, es hora de apilar algunas capas. \n",
        "\n",
        "En primer lugar, usaremos tres bloques convolucionales,cada bloque esta compuesto po la capa\n",
        "convolucionales con algunas relacionadas. En este caso, la capa relacionada que se aplica cada vez es una MaxPooling2D directamente después de la capa Conv2D. Como puede ver, cada vez, el número de mapas de características aumenta, de 32 a 64 a 128. Esto se hace porque el modelo aprende un número limitado de patrones \"genéricos\" (32) y una gran cantidad de patrones únicos. a la imagen (128). Max Pooling asegura la invariancia de traducción.\n",
        "\n",
        "Después de los bloques convolucionales, agregamos una capa Flatten. Las capas densas, que se encargan de generar las clasificaciones reales, solo funcionan con datos unidimensionales. Flatten hace que esto suceda: convierte los mapas de características multidimensionales en una forma unidimensional. \n",
        "\n",
        "Mientras usamos la función de activación de Softmax, obtendremos una distribución de probabilidad multiclase discreta como nuestra salida para cualquier entrada. A partir de esta distribución, podemos extraer la que tenga 3el valor más alto, que es la clase más probable para nuestra entrada."
      ]
    },
    {
      "cell_type": "code",
      "metadata": {
        "id": "utCas3DEZwfE"
      },
      "source": [
        "#model=Sequential()\n",
        "#model.add(Conv2D(32,(3,3),input_shape=(32,32,3),padding='same',activation='relu',kernel_constraint=maxnorm(3)))\n",
        "#model.add(Dropout(0.2))\n",
        "#model.add(Conv2D(32,(3,3),activation='relu',padding='same',kernel_constraint=maxnorm(3)))\n",
        "#model.add(MaxPooling2D(pool_size=(2,2)))\n",
        "#model.add(Flatten())\n",
        "#model.add(Dense(512,activation='relu',kernel_constraint=maxnorm(3)))\n",
        "#model.add(Dropout(0.5))\n",
        "#model.add(Dense(num_classes, activation='softmax'))\n",
        "\n",
        "model = Sequential()\n",
        "model.add(Conv2D(32, kernel_size=(3, 3), activation='relu', input_shape=(32,32,3)))\n",
        "model.add(MaxPooling2D(pool_size=(2, 2)))\n",
        "model.add(Conv2D(64, kernel_size=(3, 3), activation='relu'))\n",
        "model.add(MaxPooling2D(pool_size=(2, 2)))\n",
        "model.add(Conv2D(128, kernel_size=(3, 3), activation='relu'))\n",
        "model.add(MaxPooling2D(pool_size=(2, 2)))\n",
        "model.add(Flatten())\n",
        "model.add(Dense(256, activation='relu'))\n",
        "model.add(Dense(128, activation='relu'))\n",
        "model.add(Dense(num_classes, activation='softmax'))"
      ],
      "execution_count": 20,
      "outputs": []
    },
    {
      "cell_type": "code",
      "metadata": {
        "id": "aG4DmYZkGTvJ",
        "colab": {
          "base_uri": "https://localhost:8080/"
        },
        "outputId": "9e2c39ab-4021-47e7-fb9f-9c544bfdc163"
      },
      "source": [
        "model.summary()"
      ],
      "execution_count": 21,
      "outputs": [
        {
          "output_type": "stream",
          "name": "stdout",
          "text": [
            "Model: \"sequential\"\n",
            "_________________________________________________________________\n",
            " Layer (type)                Output Shape              Param #   \n",
            "=================================================================\n",
            " conv2d (Conv2D)             (None, 30, 30, 32)        896       \n",
            "                                                                 \n",
            " max_pooling2d (MaxPooling2D  (None, 15, 15, 32)       0         \n",
            " )                                                               \n",
            "                                                                 \n",
            " conv2d_1 (Conv2D)           (None, 13, 13, 64)        18496     \n",
            "                                                                 \n",
            " max_pooling2d_1 (MaxPooling  (None, 6, 6, 64)         0         \n",
            " 2D)                                                             \n",
            "                                                                 \n",
            " conv2d_2 (Conv2D)           (None, 4, 4, 128)         73856     \n",
            "                                                                 \n",
            " max_pooling2d_2 (MaxPooling  (None, 2, 2, 128)        0         \n",
            " 2D)                                                             \n",
            "                                                                 \n",
            " flatten (Flatten)           (None, 512)               0         \n",
            "                                                                 \n",
            " dense (Dense)               (None, 256)               131328    \n",
            "                                                                 \n",
            " dense_1 (Dense)             (None, 128)               32896     \n",
            "                                                                 \n",
            " dense_2 (Dense)             (None, 10)                1290      \n",
            "                                                                 \n",
            "=================================================================\n",
            "Total params: 258,762\n",
            "Trainable params: 258,762\n",
            "Non-trainable params: 0\n",
            "_________________________________________________________________\n"
          ]
        }
      ]
    },
    {
      "cell_type": "markdown",
      "metadata": {
        "id": "wHG6Q2j1BOS1"
      },
      "source": [
        "##Compiling the model & fitting data\n",
        "\n",
        "---\n",
        "\n"
      ]
    },
    {
      "cell_type": "code",
      "metadata": {
        "id": "WcqX_r0eDPjT"
      },
      "source": [
        "# Compile the model\n",
        "model.compile(loss=loss_function,\n",
        "              optimizer=optimizer,\n",
        "              metrics=['accuracy'])\n"
      ],
      "execution_count": 22,
      "outputs": []
    },
    {
      "cell_type": "code",
      "metadata": {
        "colab": {
          "base_uri": "https://localhost:8080/"
        },
        "id": "ngeDab7wE4uz",
        "outputId": "fc478d26-81eb-4af9-bfdd-0faecf4c0433"
      },
      "source": [
        "start1 = time.time()\n",
        "\n",
        "\n",
        "# Fit data to model\n",
        "history = model.fit(train_X, train_Y,\n",
        "            batch_size=batch_size,\n",
        "            epochs=no_epochs,\n",
        "            verbose=verbosity,\n",
        "            validation_data=(test_X,test_Y)\n",
        "            )\n",
        "end1 = time.time()\n",
        "cnn_time = end1-start1\n"
      ],
      "execution_count": 23,
      "outputs": [
        {
          "output_type": "stream",
          "name": "stdout",
          "text": [
            "Epoch 1/60\n",
            "1000/1000 [==============================] - 70s 69ms/step - loss: 2.1663 - accuracy: 0.1956 - val_loss: 2.0633 - val_accuracy: 0.2292\n",
            "Epoch 2/60\n",
            "1000/1000 [==============================] - 69s 69ms/step - loss: 1.9070 - accuracy: 0.3018 - val_loss: 1.7527 - val_accuracy: 0.3654\n",
            "Epoch 3/60\n",
            "1000/1000 [==============================] - 68s 68ms/step - loss: 1.6935 - accuracy: 0.3858 - val_loss: 1.6330 - val_accuracy: 0.4148\n",
            "Epoch 4/60\n",
            "1000/1000 [==============================] - 70s 70ms/step - loss: 1.5590 - accuracy: 0.4359 - val_loss: 1.5313 - val_accuracy: 0.4505\n",
            "Epoch 5/60\n",
            "1000/1000 [==============================] - 73s 73ms/step - loss: 1.4681 - accuracy: 0.4696 - val_loss: 1.4368 - val_accuracy: 0.4804\n",
            "Epoch 6/60\n",
            "1000/1000 [==============================] - 71s 71ms/step - loss: 1.3869 - accuracy: 0.5018 - val_loss: 1.3539 - val_accuracy: 0.5100\n",
            "Epoch 7/60\n",
            "1000/1000 [==============================] - 71s 71ms/step - loss: 1.3153 - accuracy: 0.5311 - val_loss: 1.2832 - val_accuracy: 0.5404\n",
            "Epoch 8/60\n",
            "1000/1000 [==============================] - 72s 72ms/step - loss: 1.2512 - accuracy: 0.5564 - val_loss: 1.2270 - val_accuracy: 0.5604\n",
            "Epoch 9/60\n",
            "1000/1000 [==============================] - 71s 71ms/step - loss: 1.1943 - accuracy: 0.5781 - val_loss: 1.1807 - val_accuracy: 0.5739\n",
            "Epoch 10/60\n",
            "1000/1000 [==============================] - 72s 72ms/step - loss: 1.1436 - accuracy: 0.5962 - val_loss: 1.2140 - val_accuracy: 0.5755\n",
            "Epoch 11/60\n",
            "1000/1000 [==============================] - 72s 72ms/step - loss: 1.0969 - accuracy: 0.6130 - val_loss: 1.1363 - val_accuracy: 0.5988\n",
            "Epoch 12/60\n",
            "1000/1000 [==============================] - 72s 72ms/step - loss: 1.0530 - accuracy: 0.6312 - val_loss: 1.1118 - val_accuracy: 0.6087\n",
            "Epoch 13/60\n",
            "1000/1000 [==============================] - 73s 73ms/step - loss: 1.0138 - accuracy: 0.6435 - val_loss: 1.1296 - val_accuracy: 0.6052\n",
            "Epoch 14/60\n",
            "1000/1000 [==============================] - 72s 72ms/step - loss: 0.9744 - accuracy: 0.6601 - val_loss: 1.0462 - val_accuracy: 0.6375\n",
            "Epoch 15/60\n",
            "1000/1000 [==============================] - 73s 73ms/step - loss: 0.9374 - accuracy: 0.6710 - val_loss: 1.0381 - val_accuracy: 0.6426\n",
            "Epoch 16/60\n",
            "1000/1000 [==============================] - 73s 73ms/step - loss: 0.9043 - accuracy: 0.6858 - val_loss: 1.0028 - val_accuracy: 0.6529\n",
            "Epoch 17/60\n",
            "1000/1000 [==============================] - 72s 72ms/step - loss: 0.8707 - accuracy: 0.6959 - val_loss: 0.9716 - val_accuracy: 0.6611\n",
            "Epoch 18/60\n",
            "1000/1000 [==============================] - 73s 73ms/step - loss: 0.8419 - accuracy: 0.7048 - val_loss: 1.0280 - val_accuracy: 0.6464\n",
            "Epoch 19/60\n",
            "1000/1000 [==============================] - 73s 73ms/step - loss: 0.8095 - accuracy: 0.7163 - val_loss: 0.9827 - val_accuracy: 0.6633\n",
            "Epoch 20/60\n",
            "1000/1000 [==============================] - 73s 73ms/step - loss: 0.7840 - accuracy: 0.7266 - val_loss: 0.9569 - val_accuracy: 0.6695\n",
            "Epoch 21/60\n",
            "1000/1000 [==============================] - 73s 73ms/step - loss: 0.7550 - accuracy: 0.7379 - val_loss: 0.9874 - val_accuracy: 0.6685\n",
            "Epoch 22/60\n",
            "1000/1000 [==============================] - 73s 73ms/step - loss: 0.7274 - accuracy: 0.7463 - val_loss: 0.9227 - val_accuracy: 0.6835\n",
            "Epoch 23/60\n",
            "1000/1000 [==============================] - 73s 73ms/step - loss: 0.7008 - accuracy: 0.7541 - val_loss: 0.9471 - val_accuracy: 0.6876\n",
            "Epoch 24/60\n",
            "1000/1000 [==============================] - 72s 72ms/step - loss: 0.6774 - accuracy: 0.7672 - val_loss: 0.9289 - val_accuracy: 0.6893\n",
            "Epoch 25/60\n",
            "1000/1000 [==============================] - 72s 72ms/step - loss: 0.6526 - accuracy: 0.7707 - val_loss: 0.9280 - val_accuracy: 0.6902\n",
            "Epoch 26/60\n",
            "1000/1000 [==============================] - 72s 72ms/step - loss: 0.6304 - accuracy: 0.7802 - val_loss: 0.9216 - val_accuracy: 0.6994\n",
            "Epoch 27/60\n",
            "1000/1000 [==============================] - 73s 73ms/step - loss: 0.6037 - accuracy: 0.7905 - val_loss: 0.9214 - val_accuracy: 0.6960\n",
            "Epoch 28/60\n",
            "1000/1000 [==============================] - 73s 73ms/step - loss: 0.5800 - accuracy: 0.7982 - val_loss: 0.9464 - val_accuracy: 0.6925\n",
            "Epoch 29/60\n",
            "1000/1000 [==============================] - 74s 74ms/step - loss: 0.5602 - accuracy: 0.8042 - val_loss: 0.9591 - val_accuracy: 0.6899\n",
            "Epoch 30/60\n",
            "1000/1000 [==============================] - 73s 73ms/step - loss: 0.5354 - accuracy: 0.8133 - val_loss: 0.9409 - val_accuracy: 0.6983\n",
            "Epoch 31/60\n",
            "1000/1000 [==============================] - 73s 73ms/step - loss: 0.5157 - accuracy: 0.8197 - val_loss: 0.9645 - val_accuracy: 0.6966\n",
            "Epoch 32/60\n",
            "1000/1000 [==============================] - 72s 72ms/step - loss: 0.4929 - accuracy: 0.8277 - val_loss: 1.0531 - val_accuracy: 0.6787\n",
            "Epoch 33/60\n",
            "1000/1000 [==============================] - 72s 72ms/step - loss: 0.4670 - accuracy: 0.8363 - val_loss: 0.9903 - val_accuracy: 0.7027\n",
            "Epoch 34/60\n",
            "1000/1000 [==============================] - 73s 73ms/step - loss: 0.4492 - accuracy: 0.8430 - val_loss: 0.9975 - val_accuracy: 0.6950\n",
            "Epoch 35/60\n",
            "1000/1000 [==============================] - 72s 72ms/step - loss: 0.4272 - accuracy: 0.8517 - val_loss: 1.0170 - val_accuracy: 0.6941\n",
            "Epoch 36/60\n",
            "1000/1000 [==============================] - 72s 72ms/step - loss: 0.4071 - accuracy: 0.8579 - val_loss: 1.0634 - val_accuracy: 0.6951\n",
            "Epoch 37/60\n",
            "1000/1000 [==============================] - 72s 72ms/step - loss: 0.3874 - accuracy: 0.8622 - val_loss: 1.0560 - val_accuracy: 0.6965\n",
            "Epoch 38/60\n",
            "1000/1000 [==============================] - 72s 72ms/step - loss: 0.3671 - accuracy: 0.8724 - val_loss: 1.0447 - val_accuracy: 0.7027\n",
            "Epoch 39/60\n",
            "1000/1000 [==============================] - 73s 73ms/step - loss: 0.3478 - accuracy: 0.8790 - val_loss: 1.0996 - val_accuracy: 0.6978\n",
            "Epoch 40/60\n",
            "1000/1000 [==============================] - 72s 72ms/step - loss: 0.3270 - accuracy: 0.8842 - val_loss: 1.1316 - val_accuracy: 0.6944\n",
            "Epoch 41/60\n",
            "1000/1000 [==============================] - 72s 72ms/step - loss: 0.3109 - accuracy: 0.8919 - val_loss: 1.1732 - val_accuracy: 0.6893\n",
            "Epoch 42/60\n",
            "1000/1000 [==============================] - 74s 74ms/step - loss: 0.2957 - accuracy: 0.8957 - val_loss: 1.1821 - val_accuracy: 0.6974\n",
            "Epoch 43/60\n",
            "1000/1000 [==============================] - 73s 73ms/step - loss: 0.2706 - accuracy: 0.9049 - val_loss: 1.2162 - val_accuracy: 0.6917\n",
            "Epoch 44/60\n",
            "1000/1000 [==============================] - 73s 73ms/step - loss: 0.2588 - accuracy: 0.9090 - val_loss: 1.2408 - val_accuracy: 0.6969\n",
            "Epoch 45/60\n",
            "1000/1000 [==============================] - 73s 73ms/step - loss: 0.2413 - accuracy: 0.9165 - val_loss: 1.2725 - val_accuracy: 0.6929\n",
            "Epoch 46/60\n",
            "1000/1000 [==============================] - 74s 74ms/step - loss: 0.2214 - accuracy: 0.9243 - val_loss: 1.3453 - val_accuracy: 0.6884\n",
            "Epoch 47/60\n",
            "1000/1000 [==============================] - 73s 73ms/step - loss: 0.2064 - accuracy: 0.9287 - val_loss: 1.4205 - val_accuracy: 0.6833\n",
            "Epoch 48/60\n",
            "1000/1000 [==============================] - 72s 72ms/step - loss: 0.1947 - accuracy: 0.9343 - val_loss: 1.4244 - val_accuracy: 0.6838\n",
            "Epoch 49/60\n",
            "1000/1000 [==============================] - 72s 72ms/step - loss: 0.1789 - accuracy: 0.9388 - val_loss: 1.4569 - val_accuracy: 0.6888\n",
            "Epoch 50/60\n",
            "1000/1000 [==============================] - 72s 72ms/step - loss: 0.1690 - accuracy: 0.9418 - val_loss: 1.4744 - val_accuracy: 0.6876\n",
            "Epoch 51/60\n",
            "1000/1000 [==============================] - 73s 73ms/step - loss: 0.1512 - accuracy: 0.9489 - val_loss: 1.5007 - val_accuracy: 0.6907\n",
            "Epoch 52/60\n",
            "1000/1000 [==============================] - 74s 74ms/step - loss: 0.1373 - accuracy: 0.9537 - val_loss: 1.5773 - val_accuracy: 0.6953\n",
            "Epoch 53/60\n",
            "1000/1000 [==============================] - 73s 73ms/step - loss: 0.1359 - accuracy: 0.9537 - val_loss: 1.5893 - val_accuracy: 0.6914\n",
            "Epoch 54/60\n",
            "1000/1000 [==============================] - 73s 73ms/step - loss: 0.1284 - accuracy: 0.9566 - val_loss: 1.7150 - val_accuracy: 0.6828\n",
            "Epoch 55/60\n",
            "1000/1000 [==============================] - 73s 73ms/step - loss: 0.1044 - accuracy: 0.9666 - val_loss: 1.7889 - val_accuracy: 0.6869\n",
            "Epoch 56/60\n",
            "1000/1000 [==============================] - 72s 72ms/step - loss: 0.0878 - accuracy: 0.9734 - val_loss: 1.8338 - val_accuracy: 0.6846\n",
            "Epoch 57/60\n",
            "1000/1000 [==============================] - 72s 72ms/step - loss: 0.1077 - accuracy: 0.9655 - val_loss: 1.7810 - val_accuracy: 0.6724\n",
            "Epoch 58/60\n",
            "1000/1000 [==============================] - 73s 73ms/step - loss: 0.0762 - accuracy: 0.9772 - val_loss: 1.9421 - val_accuracy: 0.6831\n",
            "Epoch 59/60\n",
            "1000/1000 [==============================] - 73s 73ms/step - loss: 0.0616 - accuracy: 0.9829 - val_loss: 1.8965 - val_accuracy: 0.6818\n",
            "Epoch 60/60\n",
            "1000/1000 [==============================] - 72s 72ms/step - loss: 0.0704 - accuracy: 0.9789 - val_loss: 1.9880 - val_accuracy: 0.6838\n"
          ]
        }
      ]
    },
    {
      "cell_type": "code",
      "metadata": {
        "id": "QN3OvI0_5TwD"
      },
      "source": [
        "#from sklearn.metrics import accuracy_score\n",
        "from sklearn import metrics\n",
        "pred_Y = model.predict(test_X) "
      ],
      "execution_count": 24,
      "outputs": []
    },
    {
      "cell_type": "markdown",
      "metadata": {
        "id": "AVi29_eQFiop"
      },
      "source": [
        "##Generating evaluation metrics & visualizations\n",
        "\n",
        "---\n",
        "Asignamos los resultados de model.fit a un objeto history. Esto nos permitirá ver los resultados de las pruebas"
      ]
    },
    {
      "cell_type": "code",
      "metadata": {
        "id": "Kpg3UdtN73ZE"
      },
      "source": [
        "# cm is the confusion matrix, names are the names of the classes.\n",
        "def plot_confusion_matrix(cm, names, title='Confusion matrix', cmap=plt.cm.Blues):\n",
        "    plt.imshow(cm, interpolation='nearest', cmap=cmap)\n",
        "    plt.title(title)\n",
        "    plt.colorbar()\n",
        "    tick_marks = np.arange(len(names))\n",
        "    plt.xticks(tick_marks, names, rotation=90)\n",
        "    plt.yticks(tick_marks, names)\n",
        "    plt.tight_layout()\n",
        "    plt.ylabel('True label')\n",
        "    plt.xlabel('Predicted label')"
      ],
      "execution_count": 25,
      "outputs": []
    },
    {
      "cell_type": "code",
      "metadata": {
        "colab": {
          "base_uri": "https://localhost:8080/",
          "height": 910
        },
        "id": "bJZKHjC-6Ji0",
        "outputId": "8ba6eadf-165b-4155-d6d1-b414bbe9dd87"
      },
      "source": [
        "# CNN report and analysis\n",
        "#y_pred_svc = svc.predict(test_Y)\n",
        "import numpy as np\n",
        "yPred = np.argmax(pred_Y, axis=1)\n",
        "yTest =np.argmax(test_Y, axis=1)\n",
        "labelNames = [\"airplane\", \"automobile\", \"bird\", \"cat\", \"deer\", \"dog\", \"frog\", \"horse\", \"ship\", \"truck\"]\n",
        "cnn_f1 = metrics.f1_score(yTest, yPred, average= \"weighted\")\n",
        "cnn_accuracy = metrics.accuracy_score(yTest, yPred)\n",
        "cnn_cm = metrics.confusion_matrix(yTest, yPred)\n",
        "print(\"-----------------CNN Summary---------------\")\n",
        "print(\"CNN Time: {:0.2f} minute\".format(cnn_time/60.0))\n",
        "print(\"F1 score: {}\".format(cnn_f1))\n",
        "print(\"Accuracy score: {}\".format(cnn_accuracy))\n",
        "print(\"Confusion matrix: \\n\", cnn_cm)\n",
        "print('Plotting confusion matrix')\n",
        "\n",
        "plt.figure()\n",
        "plot_confusion_matrix(cnn_cm, labelNames)\n",
        "plt.show()\n",
        "\n",
        "print(metrics.classification_report(yTest, yPred))"
      ],
      "execution_count": 26,
      "outputs": [
        {
          "output_type": "stream",
          "name": "stdout",
          "text": [
            "-----------------CNN Summary---------------\n",
            "CNN Time: 72.37 minute\n",
            "F1 score: 0.6826686917310868\n",
            "Accuracy score: 0.6838\n",
            "Confusion matrix: \n",
            " [[658  30  35  18  35   6  13   9 147  49]\n",
            " [ 17 764   6  11   2   6  16   1  55 122]\n",
            " [ 50  11 534  80 118  64  52  30  34  27]\n",
            " [ 17  14  61 507  86 174  46  32  28  35]\n",
            " [ 14   3  54  61 707  43  33  51  24  10]\n",
            " [  7   7  49 173  68 582  25  49  17  23]\n",
            " [  4   9  38  66  57  23 760   4  16  23]\n",
            " [ 20   8  26  47 111  77   5 652   8  46]\n",
            " [ 27  27   6  12  11   9   1   4 863  40]\n",
            " [ 21  58  10  13   8  11   5  13  50 811]]\n",
            "Plotting confusion matrix\n"
          ]
        },
        {
          "output_type": "display_data",
          "data": {
            "image/png": "[encoded data removed]",
            "text/plain": [
              "<Figure size 432x288 with 2 Axes>"
            ]
          },
          "metadata": {
            "needs_background": "light"
          }
        },
        {
          "output_type": "stream",
          "name": "stdout",
          "text": [
            "              precision    recall  f1-score   support\n",
            "\n",
            "           0       0.79      0.66      0.72      1000\n",
            "           1       0.82      0.76      0.79      1000\n",
            "           2       0.65      0.53      0.59      1000\n",
            "           3       0.51      0.51      0.51      1000\n",
            "           4       0.59      0.71      0.64      1000\n",
            "           5       0.58      0.58      0.58      1000\n",
            "           6       0.79      0.76      0.78      1000\n",
            "           7       0.77      0.65      0.71      1000\n",
            "           8       0.69      0.86      0.77      1000\n",
            "           9       0.68      0.81      0.74      1000\n",
            "\n",
            "    accuracy                           0.68     10000\n",
            "   macro avg       0.69      0.68      0.68     10000\n",
            "weighted avg       0.69      0.68      0.68     10000\n",
            "\n"
          ]
        }
      ]
    },
    {
      "cell_type": "markdown",
      "metadata": {
        "id": "Qn8KXPmXG_2W"
      },
      "source": [
        "##Conclusion\n",
        "\n",
        "---\n",
        "En aproximadamente el 70% de los casos, nuestro modelo son correctos. Esto está en línea con las precisiones de validación visualizadas a continuación a través de las épocas. Pero, lo que es más importante,  Al principio, la pérdida bajó bastante rápido, alcanzó un mínimo alrededor de la quinta época y luego volvió a subir, sustancialmente.\n",
        "\n",
        "Esta es una clara señal de que nuestro modelo está sobreajustado o de que está muy adaptado a nuestro conjunto de datos de entrenamiento. Esto puede significar que su rendimiento en datos que nunca antes ha visto es peor que si el proceso de entrenamiento se detuviera en, p. Ej. la quinta época.\n"
      ]
    },
    {
      "cell_type": "code",
      "metadata": {
        "id": "mh42iuzKa04D"
      },
      "source": [
        "#model.save(\"imageClassifier_CNN_Eguivar.h5\")"
      ],
      "execution_count": null,
      "outputs": []
    },
    {
      "cell_type": "markdown",
      "metadata": {
        "id": "ywiHuGFJH0gV"
      },
      "source": [
        "## Tests examples\n",
        "\n",
        "\n",
        "---\n",
        "\n"
      ]
    },
    {
      "cell_type": "code",
      "metadata": {
        "id": "9-R8wgfP7iSC",
        "colab": {
          "base_uri": "https://localhost:8080/",
          "height": 284
        },
        "outputId": "10ae0a6d-c977-4120-df1e-cbd098c9a4da"
      },
      "source": [
        "import numpy as np \n",
        "from keras.preprocessing import image\n",
        "# Give the link of the image here to test \n",
        "test_image =image.load_img('0032.png',target_size =(32,32))\n",
        "import matplotlib.pyplot as plt \n",
        "plt.imshow(test_image)"
      ],
      "execution_count": null,
      "outputs": [
        {
          "output_type": "execute_result",
          "data": {
            "text/plain": [
              "<matplotlib.image.AxesImage at 0x7ff243ca36d0>"
            ]
          },
          "metadata": {},
          "execution_count": 50
        },
        {
          "output_type": "display_data",
          "data": {
            "image/png": "[encoded data removed]",
            "text/plain": [
              "<Figure size 432x288 with 1 Axes>"
            ]
          },
          "metadata": {
            "needs_background": "light"
          }
        }
      ]
    },
    {
      "cell_type": "code",
      "metadata": {
        "colab": {
          "base_uri": "https://localhost:8080/"
        },
        "id": "3L2_4dX27wIY",
        "outputId": "3cd09a39-7c11-4b54-aade-ed5bea3f29e5"
      },
      "source": [
        "test_image =image.img_to_array(test_image) \n",
        "test_image =np.expand_dims(test_image, axis =0) \n",
        "result = model.predict(test_image) \n",
        "print(result) \n",
        "if result[0][0]==1: \n",
        "    print(\"Airplane\") \n",
        "elif result[0][1]==1: \n",
        "    print('Automobile') \n",
        "elif result[0][2]==1: \n",
        "    print('Bird') \n",
        "elif result[0][3]==1: \n",
        "    print('Cat') \n",
        "elif result[0][4]==1: \n",
        "    print('Deer') \n",
        "elif result[0][5]==1: \n",
        "    print('Dog') \n",
        "elif result[0][6]==1: \n",
        "    print('Frog') \n",
        "elif result[0][7]==1: \n",
        "    print('Horse') \n",
        "elif result[0][8]==1: \n",
        "    print('Ship') \n",
        "elif result[0][9]==1: \n",
        "    print('Truck') \n",
        "else: \n",
        "    print('Error')\n",
        "#%matplotlib inline \n",
        "#import matplotlib.pyplot as plt \n",
        "#plt.imshow(test_image)"
      ],
      "execution_count": null,
      "outputs": [
        {
          "output_type": "stream",
          "name": "stdout",
          "text": [
            "[[1. 0. 0. 0. 0. 0. 0. 0. 0. 0.]]\n",
            "Airplane\n"
          ]
        }
      ]
    }
  ]
}